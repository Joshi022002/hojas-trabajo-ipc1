{
  "nbformat": 4,
  "nbformat_minor": 0,
  "metadata": {
    "colab": {
      "provenance": []
    },
    "kernelspec": {
      "name": "python3",
      "display_name": "Python 3"
    },
    "language_info": {
      "name": "python"
    }
  },
  "cells": [
    {
      "cell_type": "markdown",
      "source": [
        "# Listas Circulares"
      ],
      "metadata": {
        "id": "rlKNqf244VPR"
      }
    },
    {
      "cell_type": "markdown",
      "source": [
        "Definicion de la clase Receta"
      ],
      "metadata": {
        "id": "K0_YyVDi4bo4"
      }
    },
    {
      "cell_type": "code",
      "source": [
        "class receta:\n",
        "  def __init__(self, paciente, fecha_nac, doctor, colegiado,\n",
        "               fecha_cita, hora_cita, tipo_consulta, tratamiento):\n",
        "    self.paciente = paciente\n",
        "    self.fecha_nac = fecha_nac\n",
        "    self.doctor = doctor\n",
        "    self.colegiado = colegiado\n",
        "    self.fecha_cita = fecha_cita\n",
        "    self.hora_cita = hora_cita\n",
        "    self.tipo_consulta = tipo_consulta\n",
        "    self.tratamiento = tratamiento"
      ],
      "metadata": {
        "id": "dWOzXwGx4eHq"
      },
      "execution_count": 7,
      "outputs": []
    },
    {
      "cell_type": "markdown",
      "source": [
        "Definición de la clase Nodo"
      ],
      "metadata": {
        "id": "umPo363v4hzy"
      }
    },
    {
      "cell_type": "code",
      "source": [
        "class nodo:\n",
        "  def __init__(self, receta = None, siguiente = None):\n",
        "    self.receta = receta\n",
        "    self.siguiente = siguiente"
      ],
      "metadata": {
        "id": "-xiL8tvv4j7L"
      },
      "execution_count": 8,
      "outputs": []
    },
    {
      "cell_type": "markdown",
      "source": [
        "Definición de la clase Lista Circular"
      ],
      "metadata": {
        "id": "Jp9FF4Ga4mRv"
      }
    },
    {
      "cell_type": "code",
      "source": [
        "class lista_circular:\n",
        "  def __init__(self):\n",
        "    self.primero = None\n",
        "\n",
        "  def insertar(self,receta):\n",
        "    if self.primero is None:\n",
        "      self.primero = nodo(receta=receta)\n",
        "      self.primero.siguiente = self.primero\n",
        "    else:\n",
        "      actual = nodo(receta=receta,siguiente=self.primero.siguiente)\n",
        "      self.primero.siguiente = actual\n",
        "\n",
        "  def recorrer(self):\n",
        "    if self.primero is None:\n",
        "      return\n",
        "    actual = self.primero\n",
        "    print(\"Paciente: \", actual.receta.paciente, \n",
        "            \"| Fecha de nacimiento: \", actual.receta.fecha_nac,\n",
        "            \"| Doctor: \", actual.receta.doctor,\n",
        "            \"| Colegiado: \", actual.receta.colegiado,\n",
        "            \"| Fecha de cita: \", actual.receta.fecha_cita,\n",
        "            \"| Hora cita: \", actual.receta.hora_cita,\n",
        "            \"| Tipo de consulta: \", actual.receta.tipo_consulta,\n",
        "            \"| Tratamiento: \", actual.receta.tipo_consulta)\n",
        "    while actual.siguiente != self.primero:\n",
        "      actual = actual.siguiente\n",
        "      print(\"Paciente: \", actual.receta.paciente, \n",
        "            \"| Fecha de nacimiento: \", actual.receta.fecha_nac,\n",
        "            \"| Doctor: \", actual.receta.doctor,\n",
        "            \"| Colegiado: \", actual.receta.colegiado,\n",
        "            \"| Fecha de cita: \", actual.receta.fecha_cita,\n",
        "            \"| Hora cita: \", actual.receta.hora_cita,\n",
        "            \"| Tipo de consulta: \", actual.receta.tipo_consulta,\n",
        "            \"| Tratamiento: \", actual.receta.tipo_consulta)\n",
        "  \n",
        "  def modificar(self, paciente, fecha_cita, hora_cita):\n",
        "    actual = self.primero\n",
        "\n",
        "    while actual != None:\n",
        "      if actual.receta.paciente == paciente:\n",
        "        actual.receta.fecha_cita = fecha_cita\n",
        "        actual.receta.hora_cita = hora_cita\n",
        "        return\n",
        "      actual = actual.siguiente\n",
        "\n",
        "  def eliminar(self, colegiado, fecha_cita, hora_cita):\n",
        "    actual = self.primero\n",
        "    anterior = None\n",
        "    no_encontrado = False\n",
        "\n",
        "    while actual != None and actual.receta.colegiado != colegiado and actual.receta.fecha_cita != fecha_cita and actual.receta.hora_cita != hora_cita:\n",
        "      anterior = actual\n",
        "      actual = actual.siguiente\n",
        "\n",
        "      if actual == self.primero:\n",
        "        no_encontrado = True\n",
        "        print(\"No encontrado\")\n",
        "        break\n",
        "    \n",
        "    if not no_encontrado:\n",
        "      if anterior is not None:\n",
        "        anterior.siguiente = actual.siguiente\n",
        "        actual.siguiente = None\n",
        "      else:\n",
        "        while actual.siguiente != self.primero:\n",
        "          actual = actual.siguiente\n",
        "        actual.siguiente = self.primero.siguiente\n",
        "        self.primero = self.primero.siguiente\n",
        "\n"
      ],
      "metadata": {
        "id": "820zmDTX4n8P"
      },
      "execution_count": 21,
      "outputs": []
    },
    {
      "cell_type": "markdown",
      "source": [
        "Creación de objetos Receta"
      ],
      "metadata": {
        "id": "bxyqDM5q4sjM"
      }
    },
    {
      "cell_type": "code",
      "source": [
        "r1 = receta(\"Gerson López\", \"03-10-1990\", \"Melvin Ortiz\", 20156,\"17-01-2023\", \"11:30\", \"Medicina general\", \"2 pildoras de acetaminofén cada 6 horas\")\n",
        "r2 = receta(\"Karen Gómez\", \"08-05-2000\", \"Jorge Merida\", 8567,\"31-01-2023\", \"09:00\", \"Medicina interna\", \"Tylenol de 20 ml cada 4 horas\")\n",
        "r3 = receta(\"Luis García\", \"17-09-1987\", \"Melvin Ortiz\", 20156, \"02-02-2023\", \"12:00\", \"Medicina general\", \"2 cucharadas de Pepto-Bismol cada hora hasta que la diarrea desaparezca\")"
      ],
      "metadata": {
        "id": "XrzYJCGv4u1w"
      },
      "execution_count": 22,
      "outputs": []
    },
    {
      "cell_type": "markdown",
      "source": [
        "Inserción"
      ],
      "metadata": {
        "id": "sYcBY51-4yEn"
      }
    },
    {
      "cell_type": "code",
      "source": [
        "lista_c = lista_circular()\n",
        "lista_c.insertar(r1)\n",
        "lista_c.insertar(r2)\n",
        "lista_c.insertar(r3)"
      ],
      "metadata": {
        "id": "R0zcTzUj4zai"
      },
      "execution_count": 23,
      "outputs": []
    },
    {
      "cell_type": "markdown",
      "source": [
        "Recorrer lista\n"
      ],
      "metadata": {
        "id": "1Cv0l6vF41Sx"
      }
    },
    {
      "cell_type": "code",
      "source": [
        "lista_c.recorrer()"
      ],
      "metadata": {
        "colab": {
          "base_uri": "https://localhost:8080/"
        },
        "id": "_bzCOfBz42re",
        "outputId": "d87b5265-c0c3-4251-f584-91190a0d5f49"
      },
      "execution_count": 24,
      "outputs": [
        {
          "output_type": "stream",
          "name": "stdout",
          "text": [
            "Paciente:  Gerson López | Fecha de nacimiento:  03-10-1990 | Doctor:  Melvin Ortiz | Colegiado:  20156 | Fecha de cita:  17-01-2023 | Hora cita:  11:30 | Tipo de consulta:  Medicina general | Tratamiento:  Medicina general\n",
            "Paciente:  Luis García | Fecha de nacimiento:  17-09-1987 | Doctor:  Melvin Ortiz | Colegiado:  20156 | Fecha de cita:  02-02-2023 | Hora cita:  12:00 | Tipo de consulta:  Medicina general | Tratamiento:  Medicina general\n",
            "Paciente:  Karen Gómez | Fecha de nacimiento:  08-05-2000 | Doctor:  Jorge Merida | Colegiado:  8567 | Fecha de cita:  31-01-2023 | Hora cita:  09:00 | Tipo de consulta:  Medicina interna | Tratamiento:  Medicina interna\n"
          ]
        }
      ]
    },
    {
      "cell_type": "code",
      "source": [
        "lista_c.eliminar(8567, \"31-01-2023\", \"09:00\")"
      ],
      "metadata": {
        "id": "3Yh8RmFG5HPk"
      },
      "execution_count": 25,
      "outputs": []
    },
    {
      "cell_type": "code",
      "source": [
        "lista_c.recorrer()"
      ],
      "metadata": {
        "colab": {
          "base_uri": "https://localhost:8080/"
        },
        "id": "xvxp7C7Z5LKc",
        "outputId": "f19dc20b-e867-4adf-ec18-eeb746dab5f1"
      },
      "execution_count": 26,
      "outputs": [
        {
          "output_type": "stream",
          "name": "stdout",
          "text": [
            "Paciente:  Gerson López | Fecha de nacimiento:  03-10-1990 | Doctor:  Melvin Ortiz | Colegiado:  20156 | Fecha de cita:  17-01-2023 | Hora cita:  11:30 | Tipo de consulta:  Medicina general | Tratamiento:  Medicina general\n",
            "Paciente:  Luis García | Fecha de nacimiento:  17-09-1987 | Doctor:  Melvin Ortiz | Colegiado:  20156 | Fecha de cita:  02-02-2023 | Hora cita:  12:00 | Tipo de consulta:  Medicina general | Tratamiento:  Medicina general\n"
          ]
        }
      ]
    },
    {
      "cell_type": "code",
      "source": [
        "lista_c.eliminar(20156,\"17-01-2023\", \"11:30\")"
      ],
      "metadata": {
        "id": "W2zGJHCX5NGr"
      },
      "execution_count": 27,
      "outputs": []
    },
    {
      "cell_type": "code",
      "source": [
        "lista_c.recorrer()"
      ],
      "metadata": {
        "colab": {
          "base_uri": "https://localhost:8080/"
        },
        "id": "esUS6l0X5Ouh",
        "outputId": "b62c0faf-936c-4e94-bd9a-78158af2cb46"
      },
      "execution_count": 28,
      "outputs": [
        {
          "output_type": "stream",
          "name": "stdout",
          "text": [
            "Paciente:  Luis García | Fecha de nacimiento:  17-09-1987 | Doctor:  Melvin Ortiz | Colegiado:  20156 | Fecha de cita:  02-02-2023 | Hora cita:  12:00 | Tipo de consulta:  Medicina general | Tratamiento:  Medicina general\n"
          ]
        }
      ]
    },
    {
      "cell_type": "code",
      "source": [
        "lista_c.modificar('Luis García','07-10-2024','11:30')\n",
        "lista_c.recorrer()"
      ],
      "metadata": {
        "colab": {
          "base_uri": "https://localhost:8080/"
        },
        "id": "BlMM5GeQF4O7",
        "outputId": "07a6b90a-349b-438c-abd0-bd281fffa2ca"
      },
      "execution_count": 29,
      "outputs": [
        {
          "output_type": "stream",
          "name": "stdout",
          "text": [
            "Paciente:  Luis García | Fecha de nacimiento:  17-09-1987 | Doctor:  Melvin Ortiz | Colegiado:  20156 | Fecha de cita:  07-10-2024 | Hora cita:  11:30 | Tipo de consulta:  Medicina general | Tratamiento:  Medicina general\n"
          ]
        }
      ]
    }
  ]
}