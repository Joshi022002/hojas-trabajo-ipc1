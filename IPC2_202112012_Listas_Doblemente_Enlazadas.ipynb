{
  "nbformat": 4,
  "nbformat_minor": 0,
  "metadata": {
    "colab": {
      "provenance": []
    },
    "kernelspec": {
      "name": "python3",
      "display_name": "Python 3"
    },
    "language_info": {
      "name": "python"
    }
  },
  "cells": [
    {
      "cell_type": "markdown",
      "source": [
        "Definicion de Clase Receta"
      ],
      "metadata": {
        "id": "cxW9TFsN2Wof"
      }
    },
    {
      "cell_type": "code",
      "source": [
        "class receta:\n",
        "  def __init__(self, paciente, fecha_nac, doctor, colegiado, fecha_cita, hora_cita, tipo_consulta, tratamiento):\n",
        "    self.paciente = paciente\n",
        "    self.fecha_nac = fecha_nac\n",
        "    self.doctor = doctor\n",
        "    self.colegiado = colegiado\n",
        "    self.fecha_cita = fecha_cita\n",
        "    self.hora_cita = hora_cita\n",
        "    self.tipo_consulta = tipo_consulta\n",
        "    self.tratamiento = tratamiento"
      ],
      "metadata": {
        "id": "zKa5uU81450e"
      },
      "execution_count": 18,
      "outputs": []
    },
    {
      "cell_type": "markdown",
      "source": [
        "Definicion de la clase Nodo"
      ],
      "metadata": {
        "id": "H8Aw0oPr47x-"
      }
    },
    {
      "cell_type": "code",
      "source": [
        "class nodo:\n",
        "  def __init__(self, receta=None, siguiente=None, anterior=None):\n",
        "    self.receta = receta\n",
        "    self.siguiente = siguiente\n",
        "    self.anterior = anterior"
      ],
      "metadata": {
        "id": "6xwSNhUD49ee"
      },
      "execution_count": 19,
      "outputs": []
    },
    {
      "cell_type": "markdown",
      "source": [
        "Definicion de la clase lista doblemente enlazada"
      ],
      "metadata": {
        "id": "oGhB0Jow4_0t"
      }
    },
    {
      "cell_type": "code",
      "source": [
        "class lista_doble:\n",
        "  def __init__(self):\n",
        "    self.primero = None\n",
        "\n",
        "  def insertar(self,receta):\n",
        "    if self.primero is None:\n",
        "      self.primero = nodo(receta=receta)\n",
        "    else:\n",
        "      actual = nodo(receta=receta, siguiente=self.primero)\n",
        "      self.primero.anterior = actual \n",
        "      self.primero = actual #me faltaba esta linea\n",
        "\n",
        "  def recorrer(self):\n",
        "    if self.primero is None:\n",
        "      return\n",
        "    actual = self.primero \n",
        "    print(\"Paciente:\", actual.receta.paciente, \n",
        "            \"| Fecha de Nacimiento: \", actual.receta.fecha_nac, \n",
        "            \"| Doctor: \", actual.receta.doctor,\n",
        "            \"| Colegiado: \", actual.receta.colegiado,\n",
        "            \"| Fecha cita: \", actual.receta.fecha_cita,\n",
        "            \"| Hora cita: \", actual.receta.hora_cita,\n",
        "            \"| Consulta: \", actual.receta.tipo_consulta,\n",
        "            \"| Tratamiento: \", actual.receta.tratamiento)\n",
        "    \n",
        "    while actual.siguiente:\n",
        "      actual = actual.siguiente\n",
        "      print(\"Paciente:\", actual.receta.paciente, \n",
        "            \"| Fecha de Nacimiento: \", actual.receta.fecha_nac, \n",
        "            \"| Doctor: \", actual.receta.doctor,\n",
        "            \"| Colegiado: \", actual.receta.colegiado,\n",
        "            \"| Fecha cita: \", actual.receta.fecha_cita,\n",
        "            \"| Hora cita: \", actual.receta.hora_cita,\n",
        "            \"| Consulta: \", actual.receta.tipo_consulta,\n",
        "            \"| Tratamiento: \", actual.receta.tratamiento)\n",
        "      \n",
        "  def eliminar(self, colegiado, fecha_cita, hora_cita):\n",
        "      actual = self.primero\n",
        "      while actual:\n",
        "          if actual.receta.colegiado == colegiado and actual.receta.fecha_cita == fecha_cita and actual.receta.hora_cita == hora_cita:\n",
        "              if actual.anterior:\n",
        "                  if actual.siguiente:\n",
        "                      actual.anterior.siguiente = actual.siguiente\n",
        "                      actual.siguiente.anterior = actual.anterior\n",
        "                  else:\n",
        "                      actual.anterior.siguiente = None\n",
        "              else:\n",
        "                  if actual.siguiente:\n",
        "                      self.primero = actual.siguiente\n",
        "                      actual.siguiente.anterior = None\n",
        "                  else:\n",
        "                      self.primero = None\n",
        "              return True\n",
        "          else:\n",
        "              actual = actual.siguiente\n",
        "      return False\n",
        "\n",
        "  def buscar(self, Name):\n",
        "    actual = self.primero\n",
        "    while actual:\n",
        "      if actual.receta.paciente == Name:\n",
        "        print(\"Encontrado en la lista de pacientes\")\n",
        "        return actual\n",
        "      actual = actual.siguiente\n",
        "    print(\"No se encontro al paciente en la lista\")\n",
        "    return None\n",
        "\n",
        "  def modificar(self, paciente, new_fecha):\n",
        "    nodo_modificar = self.buscar(paciente)\n",
        "    if nodo_modificar is not None:\n",
        "      nodo_modificar.receta.fecha_cita = new_fecha\n",
        "      print(\"informacion del paciente modificada.\")\n",
        "    else:\n",
        "      print(\"El paciente a modificar no se encuentra en la lista\")"
      ],
      "metadata": {
        "id": "I7ZpDVY25B-0"
      },
      "execution_count": 20,
      "outputs": []
    },
    {
      "cell_type": "markdown",
      "source": [
        "Creacion de nodos receta"
      ],
      "metadata": {
        "id": "J7oT3fop5H1m"
      }
    },
    {
      "cell_type": "code",
      "source": [
        "r1 = receta(\"Gerson López\",\"03-10-1990\",\"Melvin Ortiz\", 20156, \"17-01-2023\", \"11:30\", \"Medicina general\", \"2 pildoras de acetaminofen cada 6 horas\")\n",
        "r2 = receta(\"Karen Gómez\", \"08-05-2000\", \"Jorge Merida\", 8567, \"31-01-2023\", \"09:00\", \"Medicina interna\", \"Tylenol de 20 ml cada 4 horas\")\n",
        "r3 = receta(\"Luis García\", \"17-09-1987\", \"Melvin Ortiz\", 20157, \"02-02-2023\", \"12:00\", \"Medicina general\", \"2 cucharadas de Pepto-Bismol cada hora hasta que la diarrea desaparezca\")"
      ],
      "metadata": {
        "id": "YNFSZWb65KlF"
      },
      "execution_count": 21,
      "outputs": []
    },
    {
      "cell_type": "markdown",
      "source": [
        "Inserción"
      ],
      "metadata": {
        "id": "aVkAjIo-5NHP"
      }
    },
    {
      "cell_type": "code",
      "source": [
        "lista_d = lista_doble()\n",
        "lista_d.insertar(r1)\n",
        "lista_d.insertar(r2)\n",
        "lista_d.insertar(r3)"
      ],
      "metadata": {
        "id": "PjWkWCka5O9l"
      },
      "execution_count": 22,
      "outputs": []
    },
    {
      "cell_type": "markdown",
      "source": [
        "Recorrer la lista"
      ],
      "metadata": {
        "id": "TkciBMUU7iF-"
      }
    },
    {
      "cell_type": "code",
      "source": [
        "lista_d.recorrer()"
      ],
      "metadata": {
        "colab": {
          "base_uri": "https://localhost:8080/"
        },
        "id": "wLBXplmG7orL",
        "outputId": "1e226ed3-b329-4fc0-b001-7ca445c2cca9"
      },
      "execution_count": 23,
      "outputs": [
        {
          "output_type": "stream",
          "name": "stdout",
          "text": [
            "Paciente: Luis García | Fecha de Nacimiento:  17-09-1987 | Doctor:  Melvin Ortiz | Colegiado:  20157 | Fecha cita:  02-02-2023 | Hora cita:  12:00 | Consulta:  Medicina general | Tratamiento:  2 cucharadas de Pepto-Bismol cada hora hasta que la diarrea desaparezca\n",
            "Paciente: Karen Gómez | Fecha de Nacimiento:  08-05-2000 | Doctor:  Jorge Merida | Colegiado:  8567 | Fecha cita:  31-01-2023 | Hora cita:  09:00 | Consulta:  Medicina interna | Tratamiento:  Tylenol de 20 ml cada 4 horas\n",
            "Paciente: Gerson López | Fecha de Nacimiento:  03-10-1990 | Doctor:  Melvin Ortiz | Colegiado:  20156 | Fecha cita:  17-01-2023 | Hora cita:  11:30 | Consulta:  Medicina general | Tratamiento:  2 pildoras de acetaminofen cada 6 horas\n"
          ]
        }
      ]
    },
    {
      "cell_type": "markdown",
      "source": [
        "Eliminar el nodo 2 de la lista\n",
        "\n",
        "\n"
      ],
      "metadata": {
        "id": "0rd2CX-V7rT6"
      }
    },
    {
      "cell_type": "code",
      "source": [
        "lista_d.eliminar(8567,\"31-01-2023\", \"09:00\")\n",
        "lista_d.recorrer()"
      ],
      "metadata": {
        "colab": {
          "base_uri": "https://localhost:8080/"
        },
        "id": "LIch31iX7s8a",
        "outputId": "bda0cbd2-9b77-44ed-f01f-78c85ba641f5"
      },
      "execution_count": 7,
      "outputs": [
        {
          "output_type": "stream",
          "name": "stdout",
          "text": [
            "Paciente: Luis García | Fecha de Nacimiento:  17-09-1987 | Doctor:  Melvin Ortiz | Colegiado:  20157 | Fecha cita:  02-02-2023 | Hora cita:  12:00 | Consulta:  Medicina general | Tratamiento:  2 cucharadas de Pepto-Bismol cada hora hasta que la diarrea desaparezca\n",
            "Paciente: Gerson López | Fecha de Nacimiento:  03-10-1990 | Doctor:  Melvin Ortiz | Colegiado:  20156 | Fecha cita:  17-01-2023 | Hora cita:  11:30 | Consulta:  Medicina general | Tratamiento:  2 pildoras de acetaminofen cada 6 horas\n"
          ]
        }
      ]
    },
    {
      "cell_type": "markdown",
      "source": [
        "Eliminar nodo 1 de la lista"
      ],
      "metadata": {
        "id": "VGPzLL6m7yIo"
      }
    },
    {
      "cell_type": "code",
      "source": [
        "lista_d.eliminar(20156, \"02-02-2023\", \"12:00\")\n",
        "lista_d.recorrer()"
      ],
      "metadata": {
        "colab": {
          "base_uri": "https://localhost:8080/"
        },
        "id": "l35wi2sg7yps",
        "outputId": "0658bf41-afaa-4f53-cadd-c8dd96f2c2d0"
      },
      "execution_count": 8,
      "outputs": [
        {
          "output_type": "stream",
          "name": "stdout",
          "text": [
            "Paciente: Luis García | Fecha de Nacimiento:  17-09-1987 | Doctor:  Melvin Ortiz | Colegiado:  20157 | Fecha cita:  02-02-2023 | Hora cita:  12:00 | Consulta:  Medicina general | Tratamiento:  2 cucharadas de Pepto-Bismol cada hora hasta que la diarrea desaparezca\n",
            "Paciente: Gerson López | Fecha de Nacimiento:  03-10-1990 | Doctor:  Melvin Ortiz | Colegiado:  20156 | Fecha cita:  17-01-2023 | Hora cita:  11:30 | Consulta:  Medicina general | Tratamiento:  2 pildoras de acetaminofen cada 6 horas\n"
          ]
        }
      ]
    },
    {
      "cell_type": "markdown",
      "source": [
        "Eliminar "
      ],
      "metadata": {
        "id": "ORI_R3E570b8"
      }
    },
    {
      "cell_type": "code",
      "source": [
        "lista_d.eliminar(20157,\"02-02-2023\",\"12:00\")\n",
        "lista_d.recorrer()"
      ],
      "metadata": {
        "colab": {
          "base_uri": "https://localhost:8080/"
        },
        "id": "SFRHnAEu72tU",
        "outputId": "cbaedcae-2a68-489b-f723-cf5af6e9beae"
      },
      "execution_count": 9,
      "outputs": [
        {
          "output_type": "stream",
          "name": "stdout",
          "text": [
            "Paciente: Gerson López | Fecha de Nacimiento:  03-10-1990 | Doctor:  Melvin Ortiz | Colegiado:  20156 | Fecha cita:  17-01-2023 | Hora cita:  11:30 | Consulta:  Medicina general | Tratamiento:  2 pildoras de acetaminofen cada 6 horas\n"
          ]
        }
      ]
    },
    {
      "cell_type": "code",
      "source": [
        "lista_d.eliminar( 8567,\"31-01-2023\", \"09:00\")\n",
        "lista_d.recorrer()"
      ],
      "metadata": {
        "colab": {
          "base_uri": "https://localhost:8080/"
        },
        "id": "Pi_3c6ym77eE",
        "outputId": "24436f85-b3a5-495d-c1c6-27db2519b32b"
      },
      "execution_count": 10,
      "outputs": [
        {
          "output_type": "stream",
          "name": "stdout",
          "text": [
            "Paciente: Gerson López | Fecha de Nacimiento:  03-10-1990 | Doctor:  Melvin Ortiz | Colegiado:  20156 | Fecha cita:  17-01-2023 | Hora cita:  11:30 | Consulta:  Medicina general | Tratamiento:  2 pildoras de acetaminofen cada 6 horas\n"
          ]
        }
      ]
    },
    {
      "cell_type": "code",
      "source": [
        "lista_d.eliminar(20156, \"17-01-2023\", \"11:30\")\n",
        "lista_d.recorrer()"
      ],
      "metadata": {
        "id": "ozEgj7C-7-RZ"
      },
      "execution_count": 11,
      "outputs": []
    },
    {
      "cell_type": "markdown",
      "source": [
        "modificar la lista"
      ],
      "metadata": {
        "id": "KfaEngnB8EaB"
      }
    },
    {
      "cell_type": "code",
      "source": [
        "lista_d.modificar(\"Karen Gómez\",\"25-02-2022\")\n",
        "print()\n",
        "lista_d.recorrer()"
      ],
      "metadata": {
        "colab": {
          "base_uri": "https://localhost:8080/"
        },
        "id": "MVlhXhnE8Afy",
        "outputId": "fd74f68c-adef-4227-adce-ad10b0e8ad0e"
      },
      "execution_count": 24,
      "outputs": [
        {
          "output_type": "stream",
          "name": "stdout",
          "text": [
            "Encontrado en la lista de pacientes\n",
            "informacion del paciente modificada.\n",
            "\n",
            "Paciente: Luis García | Fecha de Nacimiento:  17-09-1987 | Doctor:  Melvin Ortiz | Colegiado:  20157 | Fecha cita:  02-02-2023 | Hora cita:  12:00 | Consulta:  Medicina general | Tratamiento:  2 cucharadas de Pepto-Bismol cada hora hasta que la diarrea desaparezca\n",
            "Paciente: Karen Gómez | Fecha de Nacimiento:  08-05-2000 | Doctor:  Jorge Merida | Colegiado:  8567 | Fecha cita:  25-02-2022 | Hora cita:  09:00 | Consulta:  Medicina interna | Tratamiento:  Tylenol de 20 ml cada 4 horas\n",
            "Paciente: Gerson López | Fecha de Nacimiento:  03-10-1990 | Doctor:  Melvin Ortiz | Colegiado:  20156 | Fecha cita:  17-01-2023 | Hora cita:  11:30 | Consulta:  Medicina general | Tratamiento:  2 pildoras de acetaminofen cada 6 horas\n"
          ]
        }
      ]
    }
  ]
}