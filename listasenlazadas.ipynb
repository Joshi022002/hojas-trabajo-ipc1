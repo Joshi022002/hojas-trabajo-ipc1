{
  "nbformat": 4,
  "nbformat_minor": 0,
  "metadata": {
    "colab": {
      "provenance": []
    },
    "kernelspec": {
      "name": "python3",
      "display_name": "Python 3"
    },
    "language_info": {
      "name": "python"
    }
  },
  "cells": [
    {
      "cell_type": "markdown",
      "source": [
        "# Sistema de registro de recetas médicas\n",
        "\n"
      ],
      "metadata": {
        "id": "XncqGEuIgVVX"
      }
    },
    {
      "cell_type": "markdown",
      "source": [
        "# Listas Enlazadas\n",
        "Definición de la clase Receta"
      ],
      "metadata": {
        "id": "rkp4HZsHjjZd"
      }
    },
    {
      "cell_type": "code",
      "execution_count": 17,
      "metadata": {
        "id": "w2cIOAnRf4Jy"
      },
      "outputs": [],
      "source": [
        "class receta:\n",
        "  def _init_(self, paciente, fecha_nac, doctor, colegiado,\n",
        "               fecha_cita, hora_cita, tipo_consulta, tratamiento):\n",
        "    self.paciente = paciente\n",
        "    self.fecha_nac = fecha_nac\n",
        "    self.doctor = doctor\n",
        "    self.colegiado = colegiado\n",
        "    self.fecha_cita = fecha_cita\n",
        "    self.hora_cita = hora_cita\n",
        "    self.tipo_consulta = tipo_consulta\n",
        "    self.tratamiento = tratamiento"
      ]
    },
    {
      "cell_type": "markdown",
      "source": [
        "# Definición de la clase Nodo"
      ],
      "metadata": {
        "id": "m_ec8zowlkku"
      }
    },
    {
      "cell_type": "code",
      "source": [
        "class nodo:\n",
        "  def _init_(self, receta = None, siguiente = None):\n",
        "    self.receta = receta\n",
        "    self.siguiente = siguiente"
      ],
      "metadata": {
        "id": "j6BCS0htljOU"
      },
      "execution_count": 18,
      "outputs": []
    },
    {
      "cell_type": "markdown",
      "source": [
        "# Definición de la clase Lista Enlazada"
      ],
      "metadata": {
        "id": "_0hamIjDqPug"
      }
    },
    {
      "cell_type": "code",
      "source": [
        "class lista_enlazada:\n",
        "  def _init_(self):\n",
        "    self.primero = None\n",
        "\n",
        "  def insertar(self, receta):\n",
        "    if self.primero is None:\n",
        "      self.primero = nodo(receta = receta)\n",
        "      return\n",
        "    actual = self.primero\n",
        "    while actual.siguiente:\n",
        "      actual = actual.siguiente\n",
        "    actual.siguiente = nodo(receta = receta)\n",
        "\n",
        "  def recorrer(self):\n",
        "    actual = self.primero\n",
        "\n",
        "    while actual != None:\n",
        "      print(\"Paciente: \", actual.receta.paciente, \n",
        "            \"| Fecha de nacimiento: \", actual.receta.fecha_nac,\n",
        "            \"| Doctor: \", actual.receta.doctor,\n",
        "            \"| Colegiado: \", actual.receta.colegiado,\n",
        "            \"| Fecha de cita: \", actual.receta.fecha_cita,\n",
        "            \"| Hora cita: \", actual.receta.hora_cita,\n",
        "            \"| Tipo de consulta: \", actual.receta.tipo_consulta,\n",
        "            \"| Tratamiento: \", actual.receta.tipo_consulta)\n",
        "      \n",
        "      actual = actual.siguiente\n",
        "  \n",
        "  def eliminar(self, colegiado, fecha_cita, hora_cita):\n",
        "    actual = self.primero\n",
        "    anterior = None\n",
        "\n",
        "    while actual != None and actual.receta.colegiado != colegiado and actual.receta.fecha_cita != fecha_cita and actual.receta.hora_cita != hora_cita:\n",
        "      anterior = actual\n",
        "      actual = actual.siguiente\n",
        "    \n",
        "    if anterior is None:\n",
        "      self.primero = actual.siguiente\n",
        "      actual.siguiente = None\n",
        "    elif actual:\n",
        "      anterior.siguiente = actual.siguiente\n",
        "      actual.siguiente = None\n"
      ],
      "metadata": {
        "id": "D7zQsohMqUMc"
      },
      "execution_count": 19,
      "outputs": []
    },
    {
      "cell_type": "markdown",
      "source": [
        "# ELIMINAR"
      ],
      "metadata": {
        "id": "7m1DRR2SV0lj"
      }
    },
    {
      "cell_type": "markdown",
      "source": [
        "# Creación de objetos Receta"
      ],
      "metadata": {
        "id": "EKIdw9mkxunI"
      }
    },
    {
      "cell_type": "code",
      "source": [
        "r1 = receta(\"Gerson López\", \"03-10-1990\", \"Melvin Ortiz\", 20156,\n",
        "            \"17-01-2023\", \"11:30\", \"Medicina general\",\n",
        "            \"2 pildoras de acetaminofén cada 6 horas\")\n",
        "\n",
        "r2 = receta(\"Karen Gómez\", \"08-05-2000\", \"Jorge Merida\", 8567,\n",
        "            \"31-01-2023\", \"09:00\", \"Medicina interna\",\n",
        "            \"Tylenol de 20 ml cada 4 horas\")\n",
        "\n",
        "r3 = receta(\"Luis García\", \"17-09-1987\", \"Melvin Ortiz\", 20156, \n",
        "            \"02-02-2023\", \"12:00\", \"Medicina general\",\n",
        "            \"2 cucharadas de Pepto-Bismol cada hora hasta que la diarrea desaparezca\")"
      ],
      "metadata": {
        "id": "gyIYAwJJxo2p"
      },
      "execution_count": 15,
      "outputs": []
    },
    {
      "cell_type": "markdown",
      "source": [
        "# Inserción"
      ],
      "metadata": {
        "id": "ixNrrqZFyo7q"
      }
    },
    {
      "cell_type": "code",
      "source": [
        "lista_e = lista_enlazada()\n",
        "lista_e.insertar(r1)\n",
        "lista_e.insertar(r2)\n",
        "lista_e.insertar(r3)"
      ],
      "metadata": {
        "id": "pcri9yqbyrRi",
        "colab": {
          "base_uri": "https://localhost:8080/",
          "height": 339
        },
        "outputId": "18c6f87a-5b0d-4cd1-cdb5-a0a3af6dfb8d"
      },
      "execution_count": 20,
      "outputs": [
        {
          "output_type": "error",
          "ename": "AttributeError",
          "evalue": "ignored",
          "traceback": [
            "\u001b[0;31m---------------------------------------------------------------------------\u001b[0m",
            "\u001b[0;31mAttributeError\u001b[0m                            Traceback (most recent call last)",
            "\u001b[0;32m<ipython-input-20-138a2c08fe5e>\u001b[0m in \u001b[0;36m<module>\u001b[0;34m\u001b[0m\n\u001b[1;32m      1\u001b[0m \u001b[0mlista_e\u001b[0m \u001b[0;34m=\u001b[0m \u001b[0mlista_enlazada\u001b[0m\u001b[0;34m(\u001b[0m\u001b[0;34m)\u001b[0m\u001b[0;34m\u001b[0m\u001b[0;34m\u001b[0m\u001b[0m\n\u001b[0;32m----> 2\u001b[0;31m \u001b[0mlista_e\u001b[0m\u001b[0;34m.\u001b[0m\u001b[0minsertar\u001b[0m\u001b[0;34m(\u001b[0m\u001b[0mr1\u001b[0m\u001b[0;34m)\u001b[0m\u001b[0;34m\u001b[0m\u001b[0;34m\u001b[0m\u001b[0m\n\u001b[0m\u001b[1;32m      3\u001b[0m \u001b[0mlista_e\u001b[0m\u001b[0;34m.\u001b[0m\u001b[0minsertar\u001b[0m\u001b[0;34m(\u001b[0m\u001b[0mr2\u001b[0m\u001b[0;34m)\u001b[0m\u001b[0;34m\u001b[0m\u001b[0;34m\u001b[0m\u001b[0m\n\u001b[1;32m      4\u001b[0m \u001b[0mlista_e\u001b[0m\u001b[0;34m.\u001b[0m\u001b[0minsertar\u001b[0m\u001b[0;34m(\u001b[0m\u001b[0mr3\u001b[0m\u001b[0;34m)\u001b[0m\u001b[0;34m\u001b[0m\u001b[0;34m\u001b[0m\u001b[0m\n",
            "\u001b[0;32m<ipython-input-19-5c830eaad617>\u001b[0m in \u001b[0;36minsertar\u001b[0;34m(self, receta)\u001b[0m\n\u001b[1;32m      4\u001b[0m \u001b[0;34m\u001b[0m\u001b[0m\n\u001b[1;32m      5\u001b[0m   \u001b[0;32mdef\u001b[0m \u001b[0minsertar\u001b[0m\u001b[0;34m(\u001b[0m\u001b[0mself\u001b[0m\u001b[0;34m,\u001b[0m \u001b[0mreceta\u001b[0m\u001b[0;34m)\u001b[0m\u001b[0;34m:\u001b[0m\u001b[0;34m\u001b[0m\u001b[0;34m\u001b[0m\u001b[0m\n\u001b[0;32m----> 6\u001b[0;31m     \u001b[0;32mif\u001b[0m \u001b[0mself\u001b[0m\u001b[0;34m.\u001b[0m\u001b[0mprimero\u001b[0m \u001b[0;32mis\u001b[0m \u001b[0;32mNone\u001b[0m\u001b[0;34m:\u001b[0m\u001b[0;34m\u001b[0m\u001b[0;34m\u001b[0m\u001b[0m\n\u001b[0m\u001b[1;32m      7\u001b[0m       \u001b[0mself\u001b[0m\u001b[0;34m.\u001b[0m\u001b[0mprimero\u001b[0m \u001b[0;34m=\u001b[0m \u001b[0mnodo\u001b[0m\u001b[0;34m(\u001b[0m\u001b[0mreceta\u001b[0m \u001b[0;34m=\u001b[0m \u001b[0mreceta\u001b[0m\u001b[0;34m)\u001b[0m\u001b[0;34m\u001b[0m\u001b[0;34m\u001b[0m\u001b[0m\n\u001b[1;32m      8\u001b[0m       \u001b[0;32mreturn\u001b[0m\u001b[0;34m\u001b[0m\u001b[0;34m\u001b[0m\u001b[0m\n",
            "\u001b[0;31mAttributeError\u001b[0m: 'lista_enlazada' object has no attribute 'primero'"
          ]
        }
      ]
    },
    {
      "cell_type": "markdown",
      "source": [
        "# Recorrer"
      ],
      "metadata": {
        "id": "Q4UFAkTqxvhE"
      }
    },
    {
      "cell_type": "code",
      "source": [
        "lista_e.recorrer()"
      ],
      "metadata": {
        "colab": {
          "base_uri": "https://localhost:8080/"
        },
        "id": "j1Yzz5g6x0K8",
        "outputId": "33201d03-aa56-455b-c10c-cbd7c05f008f"
      },
      "execution_count": 7,
      "outputs": [
        {
          "output_type": "stream",
          "name": "stdout",
          "text": [
            "Paciente:  Gerson López | fecha de nacimiento 03-10-1990 | Doctor:  Melvin Ortiz | Colegiado:  20156 | fecha de cita:  17-01-2023 | hora de cita:  11:30 | tipo de consulta:  Medicina general | Tratamiento 2 pildoras de acetaminofén cada 6 horas\n",
            "Paciente:  karen Gomez | fecha de nacimiento 08-05-2000 | Doctor:  Jorge merida | Colegiado:  8567 | fecha de cita:  31-01-2023 | hora de cita:  9:00 | tipo de consulta:  Medicina interna | Tratamiento Tylenol de 20ml cadá 4 horas\n",
            "Paciente:  Luis Garcia | fecha de nacimiento 17-09-1987 | Doctor:  Melvin Ortiz | Colegiado:  20156 | fecha de cita:  02-02-2023 | hora de cita:  12:00 | tipo de consulta:  Medicina general | Tratamiento 2 cucharadas de peptobismol cada hora hasta que la diarrea desaparezca\n"
          ]
        }
      ]
    },
    {
      "cell_type": "code",
      "source": [
        "lista_e.eliminar(20156,'17-01-2023','11:30','Medicina general')"
      ],
      "metadata": {
        "colab": {
          "base_uri": "https://localhost:8080/",
          "height": 165
        },
        "id": "hY6Pqv6_oKBm",
        "outputId": "e277cffe-b3cc-4439-f95b-5d6074f2cdfa"
      },
      "execution_count": 11,
      "outputs": [
        {
          "output_type": "error",
          "ename": "AttributeError",
          "evalue": "ignored",
          "traceback": [
            "\u001b[0;31m---------------------------------------------------------------------------\u001b[0m",
            "\u001b[0;31mAttributeError\u001b[0m                            Traceback (most recent call last)",
            "\u001b[0;32m<ipython-input-11-55b8be10d23a>\u001b[0m in \u001b[0;36m<module>\u001b[0;34m\u001b[0m\n\u001b[0;32m----> 1\u001b[0;31m \u001b[0mlista_e\u001b[0m\u001b[0;34m.\u001b[0m\u001b[0meliminar\u001b[0m\u001b[0;34m(\u001b[0m\u001b[0;36m20156\u001b[0m\u001b[0;34m,\u001b[0m\u001b[0;34m'17-01-2023'\u001b[0m\u001b[0;34m,\u001b[0m\u001b[0;34m'11:30'\u001b[0m\u001b[0;34m,\u001b[0m\u001b[0;34m'Medicina general'\u001b[0m\u001b[0;34m)\u001b[0m\u001b[0;34m\u001b[0m\u001b[0;34m\u001b[0m\u001b[0m\n\u001b[0m",
            "\u001b[0;31mAttributeError\u001b[0m: 'lista_enlazada' object has no attribute 'eliminar'"
          ]
        }
      ]
    },
    {
      "cell_type": "code",
      "source": [
        "lista_e.recorrer()"
      ],
      "metadata": {
        "id": "rBDCWIVCoKI8"
      },
      "execution_count": null,
      "outputs": []
    },
    {
      "cell_type": "code",
      "source": [
        "lista_e.eliminar(8567,'31-01-2023','9:00','Medicina interna')"
      ],
      "metadata": {
        "id": "O6pA22knoaL3"
      },
      "execution_count": null,
      "outputs": []
    },
    {
      "cell_type": "code",
      "source": [
        "lista_e.recorrer()"
      ],
      "metadata": {
        "id": "DpnPShGKokD1"
      },
      "execution_count": null,
      "outputs": []
    },
    {
      "cell_type": "code",
      "source": [
        "lista_e.eliminar(20156,'02-02-2023','12:00','Medicina general')"
      ],
      "metadata": {
        "id": "CvjMkRypoldS"
      },
      "execution_count": null,
      "outputs": []
    },
    {
      "cell_type": "code",
      "source": [
        "lista_e.recorrer()"
      ],
      "metadata": {
        "id": "9yto2sTvooR2"
      },
      "execution_count": null,
      "outputs": []
    },
    {
      "cell_type": "markdown",
      "source": [
        "# MODIFICAR"
      ],
      "metadata": {
        "id": "6xRAr3wM2DED"
      }
    },
    {
      "cell_type": "code",
      "source": [
        "def modificar(self, paciente, fecha_cita, hora_cita):\n",
        "  actual=self.primero\n",
        "\n",
        "  while actual != None and actual.receta.paciente == paciente:\n",
        "    actual.receta.fecha_cita = fecha_cita\n",
        "    actual.receta.hora_cita\n",
        "    actual = actual.siguiente"
      ],
      "metadata": {
        "id": "Hzd16o0j2G2A"
      },
      "execution_count": null,
      "outputs": []
    },
    {
      "cell_type": "code",
      "source": [
        "lista_e.modificar(20156,'02-02-2023','11:00','Medicina moderna')"
      ],
      "metadata": {
        "id": "Zt6el6xbNwmq"
      },
      "execution_count": null,
      "outputs": []
    },
    {
      "cell_type": "code",
      "source": [
        "lista_e.modificar()"
      ],
      "metadata": {
        "id": "mQH-jQIeQzYa"
      },
      "execution_count": null,
      "outputs": []
    }
  ]
}